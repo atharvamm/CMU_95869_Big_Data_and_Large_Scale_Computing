{
 "cells": [
  {
   "cell_type": "markdown",
   "metadata": {
    "id": "vmEavffKMXEU"
   },
   "source": [
    "# 95-869: Big Data and Large-Scale Computing Homework 3\n",
    "\n",
    "\n",
    "## **Click-Through Rate Prediction Assignment**\n",
    "#### This assignment covers the steps for creating a click-through rate (CTR) prediction pipeline.  You will work with the [Criteo Labs](http://labs.criteo.com/) dataset that was used for a recent [Kaggle competition](https://www.kaggle.com/c/criteo-display-ad-challenge).\n",
    "\n",
    "### About the Display Advertising Dataset\n",
    "\n",
    "\n",
    "This dataset contains feature values and click feedback for millions of display ads. Its purpose is to benchmark algorithms for clickthrough rate (CTR) prediction.\n",
    "\n",
    "The dataset consists of a portion of Criteo's traffic over a period of 7 days. Each row corresponds to a display ad served by Criteo and the first column is indicates whether this ad has been clicked or not. The positive (clicked) and negatives (non-clicked) examples have both been subsampled (but at different rates) in order to reduce the dataset size.\n",
    "\n",
    "There are 13 features taking integer values (mostly count features) and 26 categorical features. The values of the categorical features have been hashed onto 32 bits for anonymization purposes. The semantic of these features is undisclosed. Some features may have missing values.\n",
    "\n",
    "The rows are chronologically ordered. When a value is missing, the field is just empty.\n",
    "\n",
    "Dataset was assembled by Olivier Chapelle (o.chapelle@criteo.com)\n",
    "\n",
    "### ** This assignment will cover: **\n",
    "*  *Part 1 (10 Points):* Featurize categorical data using one-hot-encoding (OHE)\n",
    "*  *Part 2 (10 Points):* Construct an OHE dictionary\n",
    "*  *Part 3 (20 Points):* Parse CTR data and generate OHE features\n",
    "*  *Part 4 (30 Points):* CTR prediction and logloss evaluation\n",
    "  * *Visualization 2:* ROC curve\n",
    "*  *Part 5 (30 Points):* Reduce feature dimension via feature hashing\n",
    "  * *Visualization 3:* Hyperparameter heat map\n",
    " \n",
    "#### Note that, for reference, you can look up the details of the relevant Spark methods in [Spark's Python API](https://spark.apache.org/docs/latest/api/python/) and the relevant NumPy methods in the [NumPy Reference](http://docs.scipy.org/doc/numpy/reference/index.html)"
   ]
  },
  {
   "cell_type": "markdown",
   "metadata": {
    "id": "KRbKHFZQMXEj"
   },
   "source": [
    "## Submission Instructions:\n",
    "\n",
    "You will submit both a PDF and an Jupyter Notebook file on Canvas. No printout submission is expected.\n",
    "\n",
    "Rename the notebook from \"hw3_ctr_student-2023.ipynb\" to \"andrewid_hw3_ctr_student-2023.ipynb\" where \"andrewid\" is your actual Andrew ID. Complete the assignment, execute all cells in the completed notebook, and make sure all results show up. Export the contents of the notebook by choosing \"File > Download as > HTML\" and saving the resulting file as \"andrewid_hw3_ctr_student-2023.html\" Convert the exported HTML file to PDF by using a feature such as the \"Save as PDF\" feature on Mac. Submit the IPython and exported PDF solution files on Canvas."
   ]
  },
  {
   "cell_type": "markdown",
   "metadata": {
    "id": "SyffOpysMXEm"
   },
   "source": [
    "### ** Part 1: Featurize categorical data using one-hot-encoding **"
   ]
  },
  {
   "cell_type": "markdown",
   "metadata": {
    "id": "h8QZslEuMXEr"
   },
   "source": [
    "#### ** (1a) One-hot-encoding **\n",
    "#### We would like to develop code to convert categorical features to numerical ones, and to build intuition, we will work with a sample unlabeled dataset with three data points, with each data point representing an animal. The first feature indicates the type of animal (bear, cat, mouse); the second feature describes the animal's color (black, tabby); and the third (optional) feature describes what the animal eats (mouse, salmon).\n",
    "#### In a one-hot-encoding (OHE) scheme, we want to represent each tuple of `(featureID, category)` via its own binary feature.  We can do this in Python by creating a dictionary that maps each tuple to a distinct integer, where the integer corresponds to a binary feature. To start, manually enter the entries in the OHE dictionary associated with the sample dataset by mapping the tuples to consecutive integers starting from zero,  ordering the tuples first by featureID and next by category.\n",
    "#### Later in this lab, we'll use OHE dictionaries to transform data points into compact lists of features that can be used in machine learning algorithms."
   ]
  },
  {
   "cell_type": "code",
   "execution_count": 1,
   "metadata": {
    "id": "KnneYGFMMXEt",
    "outputId": "b07d25f7-e80f-45f4-9db5-07497aec62ff"
   },
   "outputs": [
    {
     "name": "stderr",
     "output_type": "stream",
     "text": [
      "23/11/27 19:51:02 WARN NativeCodeLoader: Unable to load native-hadoop library for your platform... using builtin-java classes where applicable\n",
      "Using Spark's default log4j profile: org/apache/spark/log4j-defaults.properties\n",
      "Setting default log level to \"WARN\".\n",
      "To adjust logging level use sc.setLogLevel(newLevel). For SparkR, use setLogLevel(newLevel).\n"
     ]
    },
    {
     "data": {
      "text/html": [
       "\n",
       "        <div>\n",
       "            <p><b>SparkContext</b></p>\n",
       "\n",
       "            <p><a href=\"http://r192.ib.bridges2.psc.edu:4040\">Spark UI</a></p>\n",
       "\n",
       "            <dl>\n",
       "              <dt>Version</dt>\n",
       "                <dd><code>v3.0.1</code></dd>\n",
       "              <dt>Master</dt>\n",
       "                <dd><code>local[*]</code></dd>\n",
       "              <dt>AppName</dt>\n",
       "                <dd><code>pyspark-shell</code></dd>\n",
       "            </dl>\n",
       "        </div>\n",
       "        "
      ],
      "text/plain": [
       "<SparkContext master=local[*] appName=pyspark-shell>"
      ]
     },
     "execution_count": 1,
     "metadata": {},
     "output_type": "execute_result"
    }
   ],
   "source": [
    "import os\n",
    "import sys\n",
    "import os.path\n",
    "\n",
    "sys.path.append(\"/opt/packages/spark/latest/python/lib/py4j-0.10.9-src.zip\")\n",
    "sys.path.append(\"/opt/packages/spark/latest/python/\")\n",
    "sys.path.append(\"/opt/packages/spark/latest/python/pyspark\")\n",
    "from pyspark import SparkConf, SparkContext\n",
    "sc = SparkContext()\n",
    "sc"
   ]
  },
  {
   "cell_type": "code",
   "execution_count": 2,
   "metadata": {
    "id": "YBi3i-MgMXE0"
   },
   "outputs": [],
   "source": [
    "# Data for manual OHE\n",
    "# Note: the first data point does not include any value for the optional third feature\n",
    "sampleOne = [(0, 'mouse'), (1, 'black')]\n",
    "sampleTwo = [(0, 'cat'), (1, 'tabby'), (2, 'mouse')]\n",
    "sampleThree =  [(0, 'bear'), (1, 'black'), (2, 'salmon')]\n",
    "sampleDataRDD = sc.parallelize([sampleOne, sampleTwo, sampleThree])"
   ]
  },
  {
   "cell_type": "code",
   "execution_count": 3,
   "metadata": {},
   "outputs": [],
   "source": [
    "# TODO: Replace <FILL IN> with appropriate code\n",
    "sampleOHEDictManual = {}\n",
    "sampleOHEDictManual[(0,'bear')] = 0\n",
    "sampleOHEDictManual[(0,'cat')] = 1\n",
    "sampleOHEDictManual[(0,'mouse')] = 2\n",
    "sampleOHEDictManual[(1, 'black')] = 3\n",
    "sampleOHEDictManual[(1, 'tabby')] = 4\n",
    "sampleOHEDictManual[(2, 'mouse')] = 5\n",
    "sampleOHEDictManual[(2, 'salmon')] = 6"
   ]
  },
  {
   "cell_type": "markdown",
   "metadata": {
    "id": "iWR0LqduMXE9"
   },
   "source": [
    "#### ** (1b) Sparse vectors **\n",
    "#### Data points can typically be represented with a small number of non-zero OHE features relative to the total number of features that occur in the dataset.  By leveraging this sparsity and using sparse vector representations of OHE data, we can reduce storage and computational burdens.  Below are a few sample vectors represented as dense numpy arrays.  Use [SparseVector](https://spark.apache.org/docs/latest/api/python/pyspark.mllib.html#pyspark.mllib.linalg.SparseVector) to represent them in a sparse fashion, and verify that both the sparse and dense representations yield the same results when computing [dot products](http://en.wikipedia.org/wiki/Dot_product) (we will later use MLlib to train classifiers via gradient descent, and MLlib will need to compute dot products between SparseVectors and dense parameter vectors).\n",
    "#### Use `SparseVector(size, *args)` to create a new sparse vector where size is the length of the vector and args is either a dictionary, a list of (index, value) pairs, or two separate arrays of indices and values (sorted by index).  You'll need to create a sparse vector representation of each dense vector `aDense` and `bDense`."
   ]
  },
  {
   "cell_type": "code",
   "execution_count": 4,
   "metadata": {
    "id": "htNa4PHGMXE_"
   },
   "outputs": [],
   "source": [
    "import numpy as np\n",
    "from pyspark.mllib.linalg import SparseVector"
   ]
  },
  {
   "cell_type": "code",
   "execution_count": 5,
   "metadata": {},
   "outputs": [
    {
     "name": "stdout",
     "output_type": "stream",
     "text": [
      "18.5\n",
      "18.5\n",
      "4.199999999999999\n",
      "4.199999999999999\n"
     ]
    }
   ],
   "source": [
    "# TODO: Replace <FILL IN> with appropriate code\n",
    "aDense = np.array([0., 3., 0., 4., 4., 0.])\n",
    "aSparse = SparseVector(len(aDense), [(ind,ele) for ind,ele in enumerate(aDense) if ele != 0])\n",
    "\n",
    "bDense = np.array([0., 0., 0., 1., 2., 1.])\n",
    "bSparse = SparseVector(len(bDense), [(ind,ele) for ind,ele in enumerate(bDense) if ele != 0])\n",
    "\n",
    "w = np.array([0.4, 3.1, -1.4, -.5, 2.8, -0.9])\n",
    "print (aDense.dot(w))\n",
    "print (aSparse.dot(w))\n",
    "print (bDense.dot(w))\n",
    "print (bSparse.dot(w))"
   ]
  },
  {
   "cell_type": "markdown",
   "metadata": {
    "id": "_F1x3gXpMXFD"
   },
   "source": [
    "#### ** (1c) OHE features as sparse vectors **\n",
    "#### Now let's see how we can represent the OHE features for points in our sample dataset.  Using the mapping defined by the OHE dictionary from Part (1a), manually define OHE features for the three sample data points using SparseVector format.  Any feature that occurs in a point should have the value 1.0.  For example, the `DenseVector` for a point with features 2 and 4 would be `[0.0, 0.0, 1.0, 0.0, 1.0, 0.0, 0.0]`."
   ]
  },
  {
   "cell_type": "code",
   "execution_count": 6,
   "metadata": {
    "id": "07S1bvmRMXFF"
   },
   "outputs": [],
   "source": [
    "# Reminder of the sample features\n",
    "# sampleOne = [(0, 'mouse'), (1, 'black')]\n",
    "# sampleTwo = [(0, 'cat'), (1, 'tabby'), (2, 'mouse')]\n",
    "# sampleThree =  [(0, 'bear'), (1, 'black'), (2, 'salmon')]"
   ]
  },
  {
   "cell_type": "code",
   "execution_count": 7,
   "metadata": {},
   "outputs": [],
   "source": [
    "# TODO: Replace <FILL IN> with appropriate code\n",
    "sampleOneOHEFeatManual = SparseVector(len(sampleOHEDictManual.keys()),[(sampleOHEDictManual[ele],1) for ele in sampleOne])\n",
    "sampleTwoOHEFeatManual = SparseVector(len(sampleOHEDictManual.keys()),[(sampleOHEDictManual[ele],1) for ele in sampleTwo])\n",
    "sampleThreeOHEFeatManual = SparseVector(len(sampleOHEDictManual.keys()),[(sampleOHEDictManual[ele],1) for ele in sampleThree])"
   ]
  },
  {
   "cell_type": "markdown",
   "metadata": {
    "id": "ffTJACgMMXFJ"
   },
   "source": [
    "#### ** (1d) Define a OHE function **\n",
    "#### Next we will use the OHE dictionary from Part (1a) to programatically generate OHE features from the original categorical data.  First write a function called `oneHotEncoding` that creates OHE feature vectors in `SparseVector` format.  Then use this function to create OHE features for the third sample data point and verify that the result matches the result from Part (1c)."
   ]
  },
  {
   "cell_type": "code",
   "execution_count": 8,
   "metadata": {},
   "outputs": [],
   "source": [
    "# TODO: Replace <FILL IN> with appropriate code\n",
    "def oneHotEncoding(rawFeats, OHEDict, numOHEFeats):\n",
    "    \"\"\"Produce a one-hot-encoding from a list of features and an OHE dictionary.\n",
    "\n",
    "    Note:\n",
    "        You should ensure that the indices used to create a SparseVector are sorted.\n",
    "\n",
    "    Args:\n",
    "        rawFeats (list of (int, str)): The features corresponding to a single observation.  Each\n",
    "            feature consists of a tuple of featureID and the feature's value. (e.g. sampleOne)\n",
    "        OHEDict (dict): A mapping of (featureID, value) to unique integer.\n",
    "        numOHEFeats (int): The total number of unique OHE features (combinations of featureID and\n",
    "            value).\n",
    "\n",
    "    Returns:\n",
    "        SparseVector: A SparseVector of length numOHEFeats with indicies equal to the unique\n",
    "            identifiers for the (featureID, value) combinations that occur in the observation and\n",
    "            with values equal to 1.0.\n",
    "    \"\"\"\n",
    "    return SparseVector(numOHEFeats,[(OHEDict[ele],1) for ele in rawFeats])\n",
    "    \n",
    "\n",
    "# Calculate the number of features in sampleOHEDictManual\n",
    "numSampleOHEFeats = len(sampleOHEDictManual.keys())\n",
    "\n",
    "# Run oneHotEnoding on sampleThree\n",
    "sampleThreeOHEFeat = oneHotEncoding(sampleThree, sampleOHEDictManual, numSampleOHEFeats)"
   ]
  },
  {
   "cell_type": "markdown",
   "metadata": {
    "id": "S9R9MW34MXFM"
   },
   "source": [
    "#### ** (1e) Apply OHE to a dataset **\n",
    "#### Finally, use the function from Part (1d) to create OHE features for all 3 data points in the sample dataset."
   ]
  },
  {
   "cell_type": "code",
   "execution_count": 9,
   "metadata": {},
   "outputs": [
    {
     "name": "stderr",
     "output_type": "stream",
     "text": [
      "[Stage 0:=========================>                             (59 + 69) / 128]\r"
     ]
    },
    {
     "name": "stdout",
     "output_type": "stream",
     "text": [
      "[SparseVector(7, {2: 1.0, 3: 1.0}), SparseVector(7, {1: 1.0, 4: 1.0, 5: 1.0}), SparseVector(7, {0: 1.0, 3: 1.0, 6: 1.0})]\n"
     ]
    },
    {
     "name": "stderr",
     "output_type": "stream",
     "text": [
      "                                                                                \r"
     ]
    }
   ],
   "source": [
    "# TODO: Replace <FILL IN> with appropriate code\n",
    "sampleOHEData = sampleDataRDD.map(lambda data: oneHotEncoding(data,sampleOHEDictManual,numSampleOHEFeats))\n",
    "print (sampleOHEData.collect())"
   ]
  },
  {
   "cell_type": "code",
   "execution_count": 10,
   "metadata": {},
   "outputs": [
    {
     "data": {
      "text/plain": [
       "[[(0, 'mouse'), (1, 'black')],\n",
       " [(0, 'cat'), (1, 'tabby'), (2, 'mouse')],\n",
       " [(0, 'bear'), (1, 'black'), (2, 'salmon')]]"
      ]
     },
     "execution_count": 10,
     "metadata": {},
     "output_type": "execute_result"
    }
   ],
   "source": [
    "sampleDataRDD.take(10)"
   ]
  },
  {
   "cell_type": "markdown",
   "metadata": {
    "id": "pvHoA5OsMXFR"
   },
   "source": [
    "### ** Part 2: Construct an OHE dictionary **"
   ]
  },
  {
   "cell_type": "markdown",
   "metadata": {
    "id": "_IBUaZs7MXFS"
   },
   "source": [
    "#### ** (2a) Pair RDD of `(featureID, category)` **\n",
    "#### To start, create an RDD of distinct `(featureID, category)` tuples. In our sample dataset, the 7 items in the resulting RDD are `(0, 'bear')`, `(0, 'cat')`, `(0, 'mouse')`, `(1, 'black')`, `(1, 'tabby')`, `(2, 'mouse')`, `(2, 'salmon')`. Notably `'black'` appears twice in the dataset but only contributes one item to the RDD: `(1, 'black')`, while `'mouse'` also appears twice and contributes two items: `(0, 'mouse')` and `(2, 'mouse')`.  Use [flatMap](https://spark.apache.org/docs/latest/api/python/reference/api/pyspark.RDD.flatMap.html) and [distinct](https://spark.apache.org/docs/3.1.2/api/python/reference/api/pyspark.sql.DataFrame.distinct.html)."
   ]
  },
  {
   "cell_type": "code",
   "execution_count": 11,
   "metadata": {},
   "outputs": [],
   "source": [
    "# TODO: Replace <FILL IN> with appropriate code\n",
    "sampleDistinctFeats = (sampleDataRDD\n",
    "                       .flatMap(lambda data: [ele for ele in data]).\n",
    "                      distinct())"
   ]
  },
  {
   "cell_type": "markdown",
   "metadata": {
    "id": "tw6swLNOMXFU"
   },
   "source": [
    "#### ** (2b) OHE Dictionary from distinct features **\n",
    "#### Next, create an `RDD` of key-value tuples, where each `(featureID, category)` tuple in `sampleDistinctFeats` is a key and the values are distinct integers ranging from 0 to (number of keys - 1).  Then convert this `RDD` into a dictionary, which can be done using the `collectAsMap` action.  Note that there is no unique mapping from keys to values, as all we require is that each `(featureID, category)` key be mapped to a unique integer between 0 and the number of keys.  In this exercise, any valid mapping is acceptable.  Use [zipWithIndex](https://spark.apache.org/docs/latest/api/python/reference/api/pyspark.RDD.zipWithIndex.html) followed by [collectAsMap](https://spark.apache.org/docs/latest/api/python/reference/api/pyspark.RDD.collectAsMap.html).\n",
    "#### In our sample dataset, one valid list of key-value tuples is: `[((0, 'bear'), 0), ((2, 'salmon'), 1), ((1, 'tabby'), 2), ((2, 'mouse'), 3), ((0, 'mouse'), 4), ((0, 'cat'), 5), ((1, 'black'), 6)]`. The dictionary defined in Part (1a) illustrates another valid mapping between keys and integers."
   ]
  },
  {
   "cell_type": "code",
   "execution_count": 12,
   "metadata": {},
   "outputs": [
    {
     "name": "stdout",
     "output_type": "stream",
     "text": [
      "{(2, 'salmon'): 0, (1, 'tabby'): 1, (0, 'cat'): 2, (0, 'bear'): 3, (0, 'mouse'): 4, (2, 'mouse'): 5, (1, 'black'): 6}\n"
     ]
    }
   ],
   "source": [
    "# TODO: Replace <FILL IN> with appropriate code\n",
    "sampleOHEDict = (sampleDistinctFeats\n",
    "                           .zipWithIndex().collectAsMap())\n",
    "print (sampleOHEDict)"
   ]
  },
  {
   "cell_type": "markdown",
   "metadata": {
    "id": "oUGw2gGUMXFX"
   },
   "source": [
    "#### ** (2c) Automated creation of an OHE dictionary **\n",
    "#### Now use the code from Parts (2a) and (2b) to write a function that takes an input dataset and outputs an OHE dictionary.  Then use this function to create an OHE dictionary for the sample dataset, and verify that it matches the dictionary from Part (2b)."
   ]
  },
  {
   "cell_type": "code",
   "execution_count": 13,
   "metadata": {},
   "outputs": [
    {
     "name": "stdout",
     "output_type": "stream",
     "text": [
      "{(2, 'salmon'): 0, (1, 'tabby'): 1, (0, 'cat'): 2, (0, 'bear'): 3, (0, 'mouse'): 4, (2, 'mouse'): 5, (1, 'black'): 6}\n"
     ]
    }
   ],
   "source": [
    "# TODO: Replace <FILL IN> with appropriate code\n",
    "def createOneHotDict(inputData):\n",
    "    \"\"\"Creates a one-hot-encoder dictionary based on the input data.\n",
    "\n",
    "    Args:\n",
    "        inputData (RDD of lists of (int, str)): An RDD of observations where each observation is\n",
    "            made up of a list of (featureID, value) tuples.\n",
    "\n",
    "    Returns:\n",
    "        dict: A dictionary where the keys are (featureID, value) tuples and map to values that are\n",
    "            unique integers.\n",
    "    \"\"\"\n",
    "    temp = inputData.flatMap(lambda data: [ele for ele in data]).distinct()\n",
    "    return temp.zipWithIndex().collectAsMap()\n",
    "\n",
    "sampleOHEDictAuto = createOneHotDict(sampleDataRDD)\n",
    "print (sampleOHEDictAuto)"
   ]
  },
  {
   "cell_type": "markdown",
   "metadata": {
    "id": "5foaygMuMXFb"
   },
   "source": [
    "### **Part 3: Parse CTR data and generate OHE features**"
   ]
  },
  {
   "cell_type": "markdown",
   "metadata": {
    "id": "tmWxENclMXFc"
   },
   "source": [
    "#### Before we can proceed, let's load the data from Criteo. \n",
    "\n",
    "#### In the Criteo dataset, there are 13 features taking integer values (mostly count features) and 26 categorical features.  We want to use one-hot-encoding on all 26 categorical features, and then, we apply a classifier on the processed data to predict whether an ad will be clicked or not."
   ]
  },
  {
   "cell_type": "code",
   "execution_count": 14,
   "metadata": {
    "id": "EQFyNZ3VMXFd"
   },
   "outputs": [],
   "source": [
    "numPartitions = 10\n",
    "\n",
    "rawData = sc.textFile('file:///ocean/projects/cis220071p/shared/data/dac_bigdata.txt', numPartitions)\n",
    "rawData = rawData.map(lambda x: x.strip().replace('\\t', ','))"
   ]
  },
  {
   "cell_type": "code",
   "execution_count": 15,
   "metadata": {},
   "outputs": [
    {
     "data": {
      "text/plain": [
       "['0,1,1,5,0,1382,4,15,2,181,1,2,,2,68fd1e64,80e26c9b,fb936136,7b4723c4,25c83c98,7e0ccccf,de7995b8,1f89b562,a73ee510,a8cd5504,b2cb9c98,37c9c164,2824a5f6,1adce6ef,8ba8b39a,891b62e7,e5ba7672,f54016b9,21ddcdc9,b1252a9d,07b5194c,,3a171ecb,c5c50484,e8b83407,9727dd16']"
      ]
     },
     "execution_count": 15,
     "metadata": {},
     "output_type": "execute_result"
    }
   ],
   "source": [
    "#Observe the output: the 0th index is a label (0/1). 1-13 indices correspond to numerical features,\n",
    "#and starting from 14th feature are the encoded categorical features\n",
    "rawData.take(1)"
   ]
  },
  {
   "cell_type": "markdown",
   "metadata": {
    "id": "HlfPexBrMXFk"
   },
   "source": [
    "#### ** (3a) Loading and splitting the data **\n",
    "#### We are now ready to start working with the actual CTR data, and our first task involves splitting it into training, validation, and test sets.  Use the [randomSplit method](https://spark.apache.org/docs/latest/api/python/reference/api/pyspark.RDD.randomSplit.html) with the specified weights and seed to create RDDs storing each of these datasets, and then [cache](https://spark.apache.org/docs/latest/api/python/reference/api/pyspark.RDD.cache.html) each of these RDDs, as we will be accessing them multiple times in the remainder of this lab. Finally, compute the size of each dataset."
   ]
  },
  {
   "cell_type": "code",
   "execution_count": 16,
   "metadata": {},
   "outputs": [
    {
     "name": "stdout",
     "output_type": "stream",
     "text": [
      "79996 10064 9940 100000\n",
      "['0,1,1,5,0,1382,4,15,2,181,1,2,,2,68fd1e64,80e26c9b,fb936136,7b4723c4,25c83c98,7e0ccccf,de7995b8,1f89b562,a73ee510,a8cd5504,b2cb9c98,37c9c164,2824a5f6,1adce6ef,8ba8b39a,891b62e7,e5ba7672,f54016b9,21ddcdc9,b1252a9d,07b5194c,,3a171ecb,c5c50484,e8b83407,9727dd16']\n"
     ]
    }
   ],
   "source": [
    "# TODO: Replace <FILL IN> with appropriate code\n",
    "weights = [.8, .1, .1]\n",
    "seed = 0\n",
    "# Use randomSplit with weights and seed\n",
    "rawTrainData, rawValidationData, rawTestData = rawData.randomSplit(weights,seed)\n",
    "# Cache the data\n",
    "# rawTrainData.cache()\n",
    "# rawValidationData.cache()\n",
    "# rawTestData.cache()\n",
    "\n",
    "nTrain = rawTrainData.count()\n",
    "nVal = rawValidationData.count()\n",
    "nTest = rawTestData.count()\n",
    "print (nTrain, nVal, nTest, nTrain + nVal + nTest)\n",
    "print (rawData.take(1))"
   ]
  },
  {
   "cell_type": "markdown",
   "metadata": {
    "id": "cbRABkD6MXFo"
   },
   "source": [
    "#### ** (3b) Extract features **\n",
    "#### We will now parse the raw training data to create an RDD that we can subsequently use to create an OHE dictionary. Note from the `take()` command in Part (3a) that each raw data point is a string containing several fields separated by some delimiter.  \n",
    "\n",
    "#### Complete the implemention of the `parseCategorical` function, which (1) separate the raw training data into label and features, (2) seperate out the numerical features and categorical features , (3) converts a comma separated string into a list of (featureID, value) tuples on all categorical features.\n",
    "\n",
    "\n",
    "#### Note: you can assume that all data points will have 0th index is a label (0/1). 1-13 indices correspond to numerical features, and starting from 14th feature are the encoded categorical features. For missing numberical values, we will impute them later. For missing categorical features, the `parseCategorical` function will also assign a class-value."
   ]
  },
  {
   "cell_type": "code",
   "execution_count": 17,
   "metadata": {},
   "outputs": [
    {
     "name": "stdout",
     "output_type": "stream",
     "text": [
      "Total number of categorical classes:\n",
      "477\n",
      "Number of categorical features:\n",
      "26\n"
     ]
    }
   ],
   "source": [
    "# TODO: Replace <FILL IN> with appropriate code\n",
    "def parseCategorical(point):\n",
    "    \"\"\"(1) separate the raw training data into label and features, \n",
    "       (2) seperate out the numerical features and categorical features , \n",
    "       (3) converts a comma separated string into a list of (featureID, value) tuples on all categorical features.\n",
    "\n",
    "\n",
    "    Note:\n",
    "        featureIDs should start at 0 and increase to the number of features - 1.\n",
    "\n",
    "    Args:\n",
    "        point (str): A comma separated string where the first value is the label and the rest\n",
    "            are features.\n",
    "\n",
    "    Returns:\n",
    "        list: A list of (featureID, value) tuples.\n",
    "    \"\"\"\n",
    "    return [(feat_id,val) for feat_id,val in enumerate(point.split(',')[14:])]\n",
    "\n",
    "parsedTrainFeat = rawTrainData.map(parseCategorical)\n",
    "\n",
    "numCategories = (parsedTrainFeat\n",
    "                 .flatMap(lambda x: tuple(x))\n",
    "                 .distinct()\n",
    "                 .map(lambda x: (x[0], 1))\n",
    "                 .reduceByKey(lambda x, y: x + y)\n",
    "                 .sortByKey()\n",
    "                 .collect())\n",
    "\n",
    "print(\"Total number of categorical classes:\")\n",
    "print (numCategories[0][1])\n",
    "print(\"Number of categorical features:\")\n",
    "print(len(parsedTrainFeat.take(1)[0]))"
   ]
  },
  {
   "cell_type": "markdown",
   "metadata": {
    "id": "dcLFZ0HfMXFq"
   },
   "source": [
    "#### ** (3c) Create an OHE dictionary from the dataset **\n",
    "#### Note that parsePoint returns a data point as a list of `(featureID, category)` tuples, which is the same format as the sample dataset studied in Parts 1 and 2 of this lab.  Using this observation, create an OHE dictionary using the function implemented in Part (2c)."
   ]
  },
  {
   "cell_type": "code",
   "execution_count": 18,
   "metadata": {},
   "outputs": [
    {
     "name": "stdout",
     "output_type": "stream",
     "text": [
      "204995\n",
      "61392\n"
     ]
    }
   ],
   "source": [
    "# TODO: Replace <FILL IN> with appropriate code\n",
    "ctrOHEDict = createOneHotDict(parsedTrainFeat)\n",
    "numCtrOHEFeats = len(ctrOHEDict.keys())\n",
    "print (numCtrOHEFeats)\n",
    "print (ctrOHEDict[(0, '68fd1e64')])"
   ]
  },
  {
   "cell_type": "markdown",
   "metadata": {},
   "source": [
    "#### ** (3d) Process Numerical Values **\n",
    "\n",
    "#### Now let's deal with the numerical values\n",
    "\n",
    "#### Complete the implemention of the `parseNumeric` function, which (1) separate the raw training data into label and features, (2) seperate out the numerical features and categorical features , (3) converts the numerical features into integer values and replacing all missing values with '0'."
   ]
  },
  {
   "cell_type": "code",
   "execution_count": 19,
   "metadata": {},
   "outputs": [
    {
     "name": "stdout",
     "output_type": "stream",
     "text": [
      "Number of numeric features:\n",
      "13\n"
     ]
    }
   ],
   "source": [
    "# TODO: Replace <FILL IN> with appropriate code\n",
    "def parseNumeric(point):\n",
    "    \"\"\"(1) separate the raw training data into label and features, \n",
    "       (2) seperate out the numerical features and categorical features , \n",
    "       (3) converts the numerical features into integer values and replacing all missing values with '0'.\n",
    "\n",
    "    Args:\n",
    "        point (str): A comma separated string where the first value is the label and the rest\n",
    "            are features.\n",
    "\n",
    "    Returns:\n",
    "        list: A list of numeric values.\n",
    "    \"\"\"\n",
    "    result = []\n",
    "    pointList = point.split(',')[1:14]\n",
    "    for ind,ele in enumerate(pointList):\n",
    "        if ele == '':\n",
    "            result.append(0)\n",
    "        else:\n",
    "            result.append(int(ele))\n",
    "    return result\n",
    "\n",
    "\n",
    "parsedTrainNumeric = rawTrainData.map(parseNumeric)\n",
    "print(\"Number of numeric features:\")\n",
    "print(len(parsedTrainNumeric.take(1)[0]))\n",
    "# print(parsedTrainNumeric.take(1))"
   ]
  },
  {
   "cell_type": "markdown",
   "metadata": {
    "id": "anjlfZABMXFs"
   },
   "source": [
    "#### ** (3e) Apply OHE to the dataset **\n",
    "#### Now let's use this OHE dictionary by starting with the raw training data and creating an RDD of [LabeledPoint](https://spark.apache.org/docs/latest/api/python/reference/api/pyspark.mllib.regression.LabeledPoint.html) objects using OHE features. \n",
    "\n",
    "#### To do this, complete the implementation of the `parseOHEPoint` function. \n",
    "\n",
    "#### You can use the  `parseCategorical` function from Part (3b), `parseNumeric` from Part (3d), and the `oneHotEncoding` function from Part (1d).  Since `oneHotEncoding` returns a SparseVector. In order to add numeric features, we also need to extend the indices and values of the SparseVector.\n",
    "\n",
    "#### Note: we will have oneHoeEncoded categorical features and then numeric features, for the returned object!"
   ]
  },
  {
   "cell_type": "code",
   "execution_count": 20,
   "metadata": {
    "id": "stWmH5cxMXFt"
   },
   "outputs": [],
   "source": [
    "from pyspark.mllib.regression import LabeledPoint"
   ]
  },
  {
   "cell_type": "code",
   "execution_count": 21,
   "metadata": {},
   "outputs": [
    {
     "name": "stdout",
     "output_type": "stream",
     "text": [
      "[LabeledPoint(0.0, (204995,[0,1,2,3,4,20615,20616,20617,20618,40980,61392,61393,61394,61395,81991,81992,102549,102550,102551,102552,123139,123140,123141,143583,184621,184622],[1.0,1.0,1.0,1.0,1.0,1.0,1.0,1.0,1.0,1.0,1.0,1.0,1.0,1.0,1.0,1.0,1.0,1.0,1.0,1.0,1.0,1.0,1.0,1.0,1.0,1.0]))]\n"
     ]
    }
   ],
   "source": [
    "# TODO: Replace <FILL IN> with appropriate code\n",
    "def parseOHEPoint(point, OHEDict, numOHEFeats):\n",
    "    \"\"\"Obtain the label and feature vector for this raw observation.\n",
    "\n",
    "    Note:\n",
    "        You must use the function `oneHotEncoding` in this implementation or later portions\n",
    "        of this lab may not function as expected.\n",
    "\n",
    "    Args:\n",
    "        point (str): A comma separated string where the first value is the label and the rest\n",
    "            are features.\n",
    "        OHEDict (dict of (int, str) to int): Mapping of (featureID, value) to unique integer.\n",
    "        numOHEFeats (int): The number of unique features in the training dataset.\n",
    "\n",
    "    Returns:\n",
    "        LabeledPoint: Contains the label for the observation. The features contains one-hot-encoding of the\n",
    "            raw features based on the provided OHE dictionary, following by numeric features.\n",
    "    \"\"\"\n",
    "    return LabeledPoint(point.split(',')[0],oneHotEncoding(parseCategorical(point),OHEDict,numOHEFeats))\n",
    "    \n",
    "\n",
    "OHETrainData = rawTrainData.map(lambda point: parseOHEPoint(point, ctrOHEDict, numCtrOHEFeats))\n",
    "# OHETrainData.cache()\n",
    "print (OHETrainData.take(1)) #verify that you have \n",
    "\n",
    "# Check that oneHotEncoding function was used in parseOHEPoint\n",
    "backupOneHot = oneHotEncoding\n",
    "oneHotEncoding = None\n",
    "withOneHot = False\n",
    "try: parseOHEPoint(rawTrainData.take(1)[0], ctrOHEDict, numCtrOHEFeats)\n",
    "except TypeError: withOneHot = True\n",
    "oneHotEncoding = backupOneHot"
   ]
  },
  {
   "cell_type": "markdown",
   "metadata": {
    "id": "mHM9uZKoMXF5"
   },
   "source": [
    "#### ** (3f) Handling unseen features **\n",
    "#### We naturally would like to repeat the process from Part (3d), e.g., to compute OHE features for the validation and test datasets.  However, we must be careful, as some categorical values will likely appear in new data that did not exist in the training data. To deal with this situation, update the `oneHotEncoding()` function from Part (1d) to ignore previously unseen categories, and then compute OHE features for the validation data."
   ]
  },
  {
   "cell_type": "code",
   "execution_count": 22,
   "metadata": {},
   "outputs": [
    {
     "name": "stdout",
     "output_type": "stream",
     "text": [
      "[LabeledPoint(1.0, (204995,[8,9,142,20615,20625,20785,41570,61392,61393,61394,61399,81997,81999,102551,123150,143586,164110,164965,184795,186681],[1.0,1.0,1.0,1.0,1.0,1.0,1.0,1.0,1.0,1.0,1.0,1.0,1.0,1.0,1.0,1.0,1.0,1.0,1.0,1.0]))]\n"
     ]
    }
   ],
   "source": [
    "# TODO: Replace <FILL IN> with appropriate code\n",
    "def oneHotEncoding(rawFeats, OHEDict, numOHEFeats):\n",
    "    \"\"\"Produce a one-hot-encoding from a list of features and an OHE dictionary.\n",
    "\n",
    "    Note:\n",
    "        If a (featureID, value) tuple doesn't have a corresponding key in OHEDict it should be\n",
    "        ignored.\n",
    "\n",
    "    Args:\n",
    "        rawFeats (list of (int, str)): The features corresponding to a single observation.  Each\n",
    "            feature consists of a tuple of featureID and the feature's value. (e.g. sampleOne)\n",
    "        OHEDict (dict): A mapping of (featureID, value) to unique integer.\n",
    "        numOHEFeats (int): The total number of unique OHE features (combinations of featureID and\n",
    "            value).\n",
    "\n",
    "    Returns:\n",
    "        SparseVector: A SparseVector of length numOHEFeats with indicies equal to the unique\n",
    "            identifiers for the (featureID, value) combinations that occur in the observation and\n",
    "            with values equal to 1.0.\n",
    "    \"\"\"\n",
    "    \n",
    "    return SparseVector(numOHEFeats,[(OHEDict[ele],1) for ele in rawFeats if ele in OHEDict.keys()])\n",
    "    \n",
    "\n",
    "OHEValidationData = rawValidationData.map(lambda point: parseOHEPoint(point, ctrOHEDict, numCtrOHEFeats))\n",
    "# OHEValidationData.cache()\n",
    "print (OHEValidationData.take(1))"
   ]
  },
  {
   "cell_type": "markdown",
   "metadata": {
    "id": "QfkqAlFjMXF7"
   },
   "source": [
    "### ** Part 4: CTR prediction and logloss evaluation **"
   ]
  },
  {
   "cell_type": "markdown",
   "metadata": {},
   "source": [
    "#### ** (4a) Min-max normalization on numerical features**\n",
    "#### Before we train our first CTR classifier. We need to normalize the numerical features to between 0 and 1. \n",
    "#### First let's find the min max values for each numerical feature."
   ]
  },
  {
   "cell_type": "code",
   "execution_count": 23,
   "metadata": {},
   "outputs": [
    {
     "name": "stdout",
     "output_type": "stream",
     "text": [
      "[0, -2, 0, 0, 0, 0, 0, 0, 0, 0, 0, 0, 0] [556, 18522, 65535, 417, 1741128, 15658, 8807, 4677, 12661, 6, 101, 178, 6558]\n"
     ]
    }
   ],
   "source": [
    "import sys\n",
    "\n",
    "def seqOp(acc, x):\n",
    "    min_vals, max_vals = acc\n",
    "    length = min(len(min_vals), len(x))\n",
    "    return ([min(min_vals[i], x[i]) for i in range(length)],\n",
    "            [max(max_vals[i], x[i]) for i in range(length)])\n",
    "\n",
    "def combOp(acc1, acc2):\n",
    "    min_vals1, max_vals1 = acc1\n",
    "    min_vals2, max_vals2 = acc2\n",
    "    length = min(len(min_vals1), len(min_vals2))\n",
    "    return ([min(min_vals1[i], min_vals2[i]) for i in range(length)],\n",
    "            [max(max_vals1[i], max_vals2[i]) for i in range(length)])\n",
    "\n",
    "\n",
    "initialMin = [float('inf')] * 13  # As there are 13 features\n",
    "initialMax = [float('-inf')] * 13\n",
    "\n",
    "featureMinMax =parsedTrainNumeric.aggregate((initialMin, initialMax), seqOp, combOp)\n",
    "featureMin, featureMax = featureMinMax\n",
    "print(featureMin, featureMax)"
   ]
  },
  {
   "cell_type": "markdown",
   "metadata": {},
   "source": [
    "#### Next obtain the `parseOHEPointNormalized` function that incorporates min-max normalization on numerical features first, and then concatenate with categorical features.\n",
    "\n",
    "#### Note: formula for min-max normalization is:\n",
    "\n",
    "$x'={\\frac  {x-{\\text{min}}(x)}{{\\text{max}}(x)-{\\text{min}}(x)}}$"
   ]
  },
  {
   "cell_type": "code",
   "execution_count": 24,
   "metadata": {},
   "outputs": [
    {
     "name": "stdout",
     "output_type": "stream",
     "text": [
      "[LabeledPoint(0.0, (205008,[0,1,2,3,4,20615,20616,20617,20618,40980,61392,61393,61394,61395,81991,81992,102549,102550,102551,102552,123139,123140,123141,143583,184621,184622,204995,204996,204997,204998,204999,205000,205001,205002,205003,205004,205005,205006,205007],[1.0,1.0,1.0,1.0,1.0,1.0,1.0,1.0,1.0,1.0,1.0,1.0,1.0,1.0,1.0,1.0,1.0,1.0,1.0,1.0,1.0,1.0,1.0,1.0,1.0,1.0,0.001798561151075902,0.00016195206218958314,7.629510948348094e-05,0.0,0.0007937383121746357,0.0002554604674926392,0.00170319064380587,0.0004276245456488288,0.014295869204643053,0.16666666663888888,0.019801980197823744,0.0,0.000304971027752317]))]\n",
      "[LabeledPoint(1.0, (205008,[8,9,142,20615,20625,20785,41570,61392,61393,61394,61399,81997,81999,102551,123150,143586,164110,164965,184795,186681,204995,204996,204997,204998,204999,205000,205001,205002,205003,205004,205005,205006,205007],[1.0,1.0,1.0,1.0,1.0,1.0,1.0,1.0,1.0,1.0,1.0,1.0,1.0,1.0,1.0,1.0,1.0,1.0,1.0,1.0,0.001798561151075902,0.0003239041243791663,3.0518043793392376e-05,0.0,0.0,0.0,0.00011354604292039132,0.0,0.0,0.16666666663888888,0.009900990098911872,0.0,0.0]))]\n"
     ]
    }
   ],
   "source": [
    "# TODO: Replace <FILL IN> with appropriate code\n",
    "def minMaxNormalize(numericFeatures, featureMin, featureMax):\n",
    "    \"\"\"Normalize the numeric features using featureMin and FeatureMax\n",
    "    Args:\n",
    "        numericFeatures (list): A list of numeric feature values.\n",
    "        featureMin (list): A list of minimum values for each feature.\n",
    "        featureMax (list): A list of maximum values for each feature.\n",
    "    Returns:\n",
    "        list: A list of normalized numeric feature values.\n",
    "    \"\"\"\n",
    "#     <FILL IN> #Note: remember to avoid division by zero error!\n",
    "    return [(ele - featureMin[ind])/((featureMax[ind] - featureMin[ind]) + 1e-9) for ind,ele in enumerate(numericFeatures)]\n",
    "\n",
    "\n",
    "def parseOHEPointNormalized(point, OHEDict, numOHEFeats,featureMin, featureMax):\n",
    "    \"\"\"Obtain the label and normalized feature vector for this raw observation.\n",
    "    Note:\n",
    "        You must use the function `oneHotEncoding` in this implementation or later portions\n",
    "        of this lab may not function as expected.\n",
    "\n",
    "    Args:\n",
    "        point (str): A comma separated string where the first value is the label and the rest\n",
    "            are features.\n",
    "        OHEDict (dict of (int, str) to int): Mapping of (featureID, value) to unique integer.\n",
    "        numOHEFeats (int): The number of unique features in the training dataset.\n",
    "\n",
    "    Returns:\n",
    "        LabeledPoint: Contains the label for the observation. The features contains one-hot-encoding of the\n",
    "            raw features based on the provided OHE dictionary, following by numeric features.\n",
    "    \"\"\"\n",
    "#     <FILL IN>\n",
    "    oheFeat = oneHotEncoding(parseCategorical(point), OHEDict, numOHEFeats)\n",
    "    oheNumeric = minMaxNormalize(parseNumeric(point),featureMin, featureMax)\n",
    "    label = point.split(',')[0]\n",
    "\n",
    "    combinedSize = oheFeat.size + len(oheNumeric)\n",
    "    combinedIndices = list(oheFeat.indices) + [idx + oheFeat.size for idx,_ in enumerate(oheNumeric)]\n",
    "    combinedValues = list(oheFeat.values) + list(oheNumeric)\n",
    "    combinedVector = SparseVector(combinedSize, combinedIndices, combinedValues)\n",
    "    \n",
    "    return LabeledPoint(label, combinedVector)\n",
    "    \n",
    "    \n",
    "    \n",
    "\n",
    "OHETrainData = rawTrainData.map(lambda point: parseOHEPointNormalized(point, ctrOHEDict, numCtrOHEFeats,featureMin, featureMax))\n",
    "OHETrainData.cache()\n",
    "print (OHETrainData.take(1))\n",
    "\n",
    "OHEValidationData = rawValidationData.map(lambda point: parseOHEPointNormalized(point, ctrOHEDict, numCtrOHEFeats,featureMin, featureMax))\n",
    "OHEValidationData.cache()\n",
    "print (OHEValidationData.take(1))"
   ]
  },
  {
   "cell_type": "markdown",
   "metadata": {
    "id": "zJkeGM7EMXF8"
   },
   "source": [
    "#### ** (4b) Logistic regression **\n",
    "#### We are now ready to train our first CTR classifier.  A natural classifier to use in this setting is logistic regression, since it models the probability of a click-through event rather than returning a binary response, and when working with rare events, probabilistic predictions are useful.  First use [LogisticRegressionWithSGD](https://spark.apache.org/docs/latest/api/python/reference/api/pyspark.mllib.classification.LogisticRegressionWithSGD.html) to train a model using `OHETrainData` with the given hyperparameter configuration.  `LogisticRegressionWithSGD` returns a [LogisticRegressionModel](https://spark.apache.org/docs/latest/api/python/reference/api/pyspark.mllib.classification.LogisticRegressionModel.html).  Next, use the `LogisticRegressionModel.weights` and `LogisticRegressionModel.intercept` attributes to print out the model's parameters.  Note that these are the names of the object's attributes and should be called using a syntax like `model.weights` for a given `model`."
   ]
  },
  {
   "cell_type": "code",
   "execution_count": 25,
   "metadata": {
    "id": "Lv6i7iYZMXGA"
   },
   "outputs": [],
   "source": [
    "from pyspark.mllib.classification import LogisticRegressionWithSGD\n",
    "\n",
    "# fixed hyperparameters\n",
    "numIters = 50\n",
    "stepSize = 20.\n",
    "regParam = 1e-6\n",
    "regType = 'l2'\n",
    "includeIntercept = True"
   ]
  },
  {
   "cell_type": "code",
   "execution_count": 26,
   "metadata": {},
   "outputs": [
    {
     "name": "stderr",
     "output_type": "stream",
     "text": [
      "23/11/27 19:51:26 WARN DAGScheduler: Broadcasting large task binary with size 3.1 MiB\n",
      "23/11/27 19:51:27 WARN DAGScheduler: Broadcasting large task binary with size 4.7 MiB\n",
      "23/11/27 19:51:27 WARN DAGScheduler: Broadcasting large task binary with size 3.1 MiB\n",
      "23/11/27 19:51:27 WARN DAGScheduler: Broadcasting large task binary with size 4.7 MiB\n",
      "23/11/27 19:51:27 WARN DAGScheduler: Broadcasting large task binary with size 3.1 MiB\n",
      "23/11/27 19:51:27 WARN DAGScheduler: Broadcasting large task binary with size 4.7 MiB\n",
      "23/11/27 19:51:27 WARN DAGScheduler: Broadcasting large task binary with size 3.1 MiB\n",
      "23/11/27 19:51:27 WARN DAGScheduler: Broadcasting large task binary with size 4.7 MiB\n",
      "23/11/27 19:51:27 WARN DAGScheduler: Broadcasting large task binary with size 3.1 MiB\n",
      "23/11/27 19:51:28 WARN DAGScheduler: Broadcasting large task binary with size 4.7 MiB\n",
      "23/11/27 19:51:28 WARN DAGScheduler: Broadcasting large task binary with size 3.1 MiB\n",
      "23/11/27 19:51:28 WARN DAGScheduler: Broadcasting large task binary with size 4.7 MiB\n",
      "23/11/27 19:51:28 WARN DAGScheduler: Broadcasting large task binary with size 3.1 MiB\n",
      "23/11/27 19:51:28 WARN DAGScheduler: Broadcasting large task binary with size 4.7 MiB\n",
      "23/11/27 19:51:28 WARN DAGScheduler: Broadcasting large task binary with size 3.1 MiB\n",
      "23/11/27 19:51:28 WARN DAGScheduler: Broadcasting large task binary with size 4.7 MiB\n",
      "23/11/27 19:51:28 WARN DAGScheduler: Broadcasting large task binary with size 3.1 MiB\n",
      "23/11/27 19:51:28 WARN DAGScheduler: Broadcasting large task binary with size 4.7 MiB\n",
      "23/11/27 19:51:28 WARN DAGScheduler: Broadcasting large task binary with size 3.1 MiB\n",
      "23/11/27 19:51:28 WARN DAGScheduler: Broadcasting large task binary with size 4.7 MiB\n",
      "23/11/27 19:51:29 WARN DAGScheduler: Broadcasting large task binary with size 3.1 MiB\n",
      "23/11/27 19:51:29 WARN DAGScheduler: Broadcasting large task binary with size 4.7 MiB\n",
      "23/11/27 19:51:29 WARN DAGScheduler: Broadcasting large task binary with size 3.1 MiB\n",
      "23/11/27 19:51:29 WARN DAGScheduler: Broadcasting large task binary with size 4.7 MiB\n",
      "23/11/27 19:51:29 WARN DAGScheduler: Broadcasting large task binary with size 3.1 MiB\n",
      "23/11/27 19:51:29 WARN DAGScheduler: Broadcasting large task binary with size 4.7 MiB\n",
      "23/11/27 19:51:29 WARN DAGScheduler: Broadcasting large task binary with size 3.1 MiB\n",
      "23/11/27 19:51:29 WARN DAGScheduler: Broadcasting large task binary with size 4.7 MiB\n",
      "23/11/27 19:51:29 WARN DAGScheduler: Broadcasting large task binary with size 3.1 MiB\n",
      "23/11/27 19:51:29 WARN DAGScheduler: Broadcasting large task binary with size 4.7 MiB\n",
      "23/11/27 19:51:29 WARN DAGScheduler: Broadcasting large task binary with size 3.1 MiB\n",
      "23/11/27 19:51:29 WARN DAGScheduler: Broadcasting large task binary with size 4.7 MiB\n",
      "23/11/27 19:51:30 WARN DAGScheduler: Broadcasting large task binary with size 3.1 MiB\n",
      "23/11/27 19:51:30 WARN DAGScheduler: Broadcasting large task binary with size 4.7 MiB\n",
      "23/11/27 19:51:30 WARN DAGScheduler: Broadcasting large task binary with size 3.1 MiB\n",
      "23/11/27 19:51:30 WARN DAGScheduler: Broadcasting large task binary with size 4.7 MiB\n",
      "23/11/27 19:51:30 WARN DAGScheduler: Broadcasting large task binary with size 3.1 MiB\n",
      "23/11/27 19:51:30 WARN DAGScheduler: Broadcasting large task binary with size 4.7 MiB\n",
      "23/11/27 19:51:30 WARN DAGScheduler: Broadcasting large task binary with size 3.1 MiB\n",
      "23/11/27 19:51:30 WARN DAGScheduler: Broadcasting large task binary with size 4.7 MiB\n",
      "23/11/27 19:51:30 WARN DAGScheduler: Broadcasting large task binary with size 3.1 MiB\n",
      "23/11/27 19:51:30 WARN DAGScheduler: Broadcasting large task binary with size 4.7 MiB\n",
      "23/11/27 19:51:31 WARN DAGScheduler: Broadcasting large task binary with size 3.1 MiB\n",
      "23/11/27 19:51:31 WARN DAGScheduler: Broadcasting large task binary with size 4.7 MiB\n",
      "23/11/27 19:51:31 WARN DAGScheduler: Broadcasting large task binary with size 3.1 MiB\n",
      "23/11/27 19:51:31 WARN DAGScheduler: Broadcasting large task binary with size 4.7 MiB\n",
      "23/11/27 19:51:31 WARN DAGScheduler: Broadcasting large task binary with size 3.1 MiB\n",
      "23/11/27 19:51:31 WARN DAGScheduler: Broadcasting large task binary with size 4.7 MiB\n",
      "23/11/27 19:51:31 WARN DAGScheduler: Broadcasting large task binary with size 3.1 MiB\n",
      "23/11/27 19:51:31 WARN DAGScheduler: Broadcasting large task binary with size 4.7 MiB\n",
      "23/11/27 19:51:31 WARN DAGScheduler: Broadcasting large task binary with size 3.1 MiB\n",
      "23/11/27 19:51:31 WARN DAGScheduler: Broadcasting large task binary with size 4.7 MiB\n",
      "23/11/27 19:51:31 WARN DAGScheduler: Broadcasting large task binary with size 3.1 MiB\n",
      "23/11/27 19:51:32 WARN DAGScheduler: Broadcasting large task binary with size 4.7 MiB\n",
      "23/11/27 19:51:32 WARN DAGScheduler: Broadcasting large task binary with size 3.1 MiB\n",
      "23/11/27 19:51:32 WARN DAGScheduler: Broadcasting large task binary with size 4.7 MiB\n",
      "23/11/27 19:51:32 WARN DAGScheduler: Broadcasting large task binary with size 3.1 MiB\n",
      "23/11/27 19:51:32 WARN DAGScheduler: Broadcasting large task binary with size 4.7 MiB\n",
      "23/11/27 19:51:32 WARN DAGScheduler: Broadcasting large task binary with size 3.1 MiB\n",
      "23/11/27 19:51:32 WARN DAGScheduler: Broadcasting large task binary with size 4.7 MiB\n",
      "23/11/27 19:51:32 WARN DAGScheduler: Broadcasting large task binary with size 3.1 MiB\n",
      "23/11/27 19:51:32 WARN DAGScheduler: Broadcasting large task binary with size 4.7 MiB\n",
      "23/11/27 19:51:32 WARN DAGScheduler: Broadcasting large task binary with size 3.1 MiB\n",
      "23/11/27 19:51:33 WARN DAGScheduler: Broadcasting large task binary with size 4.7 MiB\n",
      "23/11/27 19:51:33 WARN DAGScheduler: Broadcasting large task binary with size 3.1 MiB\n",
      "23/11/27 19:51:33 WARN DAGScheduler: Broadcasting large task binary with size 4.7 MiB\n",
      "23/11/27 19:51:33 WARN DAGScheduler: Broadcasting large task binary with size 3.1 MiB\n",
      "23/11/27 19:51:33 WARN DAGScheduler: Broadcasting large task binary with size 4.7 MiB\n",
      "23/11/27 19:51:33 WARN DAGScheduler: Broadcasting large task binary with size 3.1 MiB\n",
      "23/11/27 19:51:33 WARN DAGScheduler: Broadcasting large task binary with size 4.7 MiB\n",
      "23/11/27 19:51:33 WARN DAGScheduler: Broadcasting large task binary with size 3.1 MiB\n",
      "23/11/27 19:51:33 WARN DAGScheduler: Broadcasting large task binary with size 4.7 MiB\n",
      "23/11/27 19:51:33 WARN DAGScheduler: Broadcasting large task binary with size 3.1 MiB\n",
      "23/11/27 19:51:33 WARN DAGScheduler: Broadcasting large task binary with size 4.7 MiB\n",
      "23/11/27 19:51:34 WARN DAGScheduler: Broadcasting large task binary with size 3.1 MiB\n",
      "23/11/27 19:51:34 WARN DAGScheduler: Broadcasting large task binary with size 4.7 MiB\n",
      "23/11/27 19:51:34 WARN DAGScheduler: Broadcasting large task binary with size 3.1 MiB\n",
      "23/11/27 19:51:34 WARN DAGScheduler: Broadcasting large task binary with size 4.7 MiB\n",
      "23/11/27 19:51:34 WARN DAGScheduler: Broadcasting large task binary with size 3.1 MiB\n",
      "23/11/27 19:51:34 WARN DAGScheduler: Broadcasting large task binary with size 4.7 MiB\n",
      "23/11/27 19:51:34 WARN DAGScheduler: Broadcasting large task binary with size 3.1 MiB\n",
      "23/11/27 19:51:34 WARN DAGScheduler: Broadcasting large task binary with size 4.7 MiB\n",
      "23/11/27 19:51:34 WARN DAGScheduler: Broadcasting large task binary with size 3.1 MiB\n",
      "23/11/27 19:51:34 WARN DAGScheduler: Broadcasting large task binary with size 4.7 MiB\n",
      "23/11/27 19:51:35 WARN DAGScheduler: Broadcasting large task binary with size 3.1 MiB\n",
      "23/11/27 19:51:35 WARN DAGScheduler: Broadcasting large task binary with size 4.7 MiB\n",
      "23/11/27 19:51:35 WARN DAGScheduler: Broadcasting large task binary with size 3.1 MiB\n",
      "23/11/27 19:51:35 WARN DAGScheduler: Broadcasting large task binary with size 4.7 MiB\n",
      "23/11/27 19:51:35 WARN DAGScheduler: Broadcasting large task binary with size 3.1 MiB\n",
      "23/11/27 19:51:35 WARN DAGScheduler: Broadcasting large task binary with size 4.7 MiB\n",
      "23/11/27 19:51:35 WARN DAGScheduler: Broadcasting large task binary with size 3.1 MiB\n",
      "23/11/27 19:51:35 WARN DAGScheduler: Broadcasting large task binary with size 4.7 MiB\n",
      "23/11/27 19:51:35 WARN DAGScheduler: Broadcasting large task binary with size 3.1 MiB\n",
      "23/11/27 19:51:35 WARN DAGScheduler: Broadcasting large task binary with size 4.7 MiB\n",
      "23/11/27 19:51:35 WARN DAGScheduler: Broadcasting large task binary with size 3.1 MiB\n",
      "23/11/27 19:51:35 WARN DAGScheduler: Broadcasting large task binary with size 4.7 MiB\n",
      "23/11/27 19:51:36 WARN DAGScheduler: Broadcasting large task binary with size 3.1 MiB\n",
      "23/11/27 19:51:36 WARN DAGScheduler: Broadcasting large task binary with size 4.7 MiB\n",
      "23/11/27 19:51:36 WARN DAGScheduler: Broadcasting large task binary with size 3.1 MiB\n",
      "23/11/27 19:51:36 WARN DAGScheduler: Broadcasting large task binary with size 4.7 MiB\n"
     ]
    },
    {
     "name": "stdout",
     "output_type": "stream",
     "text": [
      "[-0.7302463115112748, -0.6094666465131673, -0.6075679037787503, -0.5362701603758062, -0.4719521758106398] 0.3763652392286617\n"
     ]
    }
   ],
   "source": [
    "# TODO: Replace <FILL IN> with appropriate code\n",
    "model0 = LogisticRegressionWithSGD.train(OHETrainData,iterations = numIters, step = stepSize, regParam = regParam, regType = regType,intercept = includeIntercept)\n",
    "sortedWeights = sorted(model0.weights)\n",
    "print (sortedWeights[:5], model0.intercept)"
   ]
  },
  {
   "cell_type": "markdown",
   "metadata": {
    "id": "jV1k-IdZMXGB"
   },
   "source": [
    "#### ** (4c) Log loss **\n",
    "#### Throughout this lab, we will use log loss to evaluate the quality of models.  Log loss is defined as: $$  \\begin{align} \\scriptsize \\ell_{log}(p, y) = \\begin{cases} -\\log (p) & \\text{if } y = 1 \\\\\\ -\\log(1-p) & \\text{if } y = 0 \\end{cases} \\end{align} $$ where $ \\scriptsize p$ is a probability between 0 and 1 and $ \\scriptsize y$ is a label of either 0 or 1. Log loss is a standard evaluation criterion when predicting rare-events such as click-through rate prediction (it is also the criterion used in the [Criteo Kaggle competition](https://www.kaggle.com/c/criteo-display-ad-challenge)).  Write a function to compute log loss, and evaluate it on some sample inputs."
   ]
  },
  {
   "cell_type": "code",
   "execution_count": 27,
   "metadata": {},
   "outputs": [
    {
     "name": "stdout",
     "output_type": "stream",
     "text": [
      "0.6931471805599453\n"
     ]
    }
   ],
   "source": [
    "# TODO: Replace <FILL IN> with appropriate code\n",
    "from math import log\n",
    "\n",
    "def computeLogLoss(p, y):\n",
    "    \"\"\"Calculates the value of log loss for a given probabilty and label.\n",
    "\n",
    "    Note:\n",
    "        log(0) is undefined, so when p is 0 we need to add a small value (epsilon) to it\n",
    "        and when p is 1 we need to subtract a small value (epsilon) from it.\n",
    "\n",
    "    Args:\n",
    "        p (float): A probabilty between 0 and 1.\n",
    "        y (int): A label.  Takes on the values 0 and 1.\n",
    "\n",
    "    Returns:\n",
    "        float: The log loss value.\n",
    "    \"\"\"\n",
    "    epsilon = 10e-15\n",
    "    if y==1: \n",
    "        if p==0: p+=epsilon\n",
    "        elif p==1: p-=epsilon\n",
    "        return -1*log(p)\n",
    "    elif y==0: \n",
    "        if p==0: p+=epsilon\n",
    "        elif p==1: p-=epsilon\n",
    "        return -1*log(1-p)\n",
    "\n",
    "print (computeLogLoss(.5, 1))"
   ]
  },
  {
   "cell_type": "markdown",
   "metadata": {
    "id": "s0qvb2AYMXGK"
   },
   "source": [
    "#### ** (4d)  Baseline log loss **\n",
    "#### Next we will use the function we wrote in Part (4b) to compute the baseline log loss on the training data. A very simple yet natural baseline model is one where we always make the same prediction independent of the given datapoint, setting the predicted value equal to the fraction of training points that correspond to click-through events (i.e., where the label is one). Compute this value (which is simply the mean of the training labels), and then use it to compute the training log loss for the baseline model.  The log loss for multiple observations is the mean of the individual log loss values."
   ]
  },
  {
   "cell_type": "code",
   "execution_count": 28,
   "metadata": {},
   "outputs": [
    {
     "name": "stdout",
     "output_type": "stream",
     "text": [
      "0.2264863243162159\n",
      "Baseline Train Logloss = 0.535\n",
      "\n"
     ]
    }
   ],
   "source": [
    "# TODO: Replace <FILL IN> with appropriate code\n",
    "# Note that our dataset has a very high click-through rate by design\n",
    "# In practice click-through rate can be one to two orders of magnitude lower\n",
    "classOneFracTrain = OHETrainData.map(lambda x: x.label).mean()\n",
    "print (classOneFracTrain)\n",
    "\n",
    "logLossTrBase = OHETrainData.map(lambda x: computeLogLoss(classOneFracTrain, x.label)).mean()\n",
    "print ('Baseline Train Logloss = {0:.3f}\\n'.format(logLossTrBase))"
   ]
  },
  {
   "cell_type": "markdown",
   "metadata": {
    "id": "SpH8ZGASMXGL"
   },
   "source": [
    "#### ** (4e) Predicted probability **\n",
    "#### In order to compute the log loss for the model we trained in Part (4a), we need to write code to generate predictions from this model. Write a function that computes the raw linear prediction from this logistic regression model and then pass it through a [sigmoid function](http://en.wikipedia.org/wiki/Sigmoid_function) $ \\scriptsize \\sigma(t) = (1+ e^{-t})^{-1} $ to return the model's probabilistic prediction. Then compute probabilistic predictions on the training data.\n",
    "#### Note that when incorporating an intercept into our predictions, we simply add the intercept to the value of the prediction obtained from the weights and features.  Alternatively, if the intercept was included as the first weight, we would need to add a corresponding feature to our data where the feature has the value one.  This is not the case here."
   ]
  },
  {
   "cell_type": "code",
   "execution_count": 29,
   "metadata": {},
   "outputs": [
    {
     "name": "stdout",
     "output_type": "stream",
     "text": [
      "[0.43132811334758503, 0.17974117401991313, 0.3467103444095081, 0.2377990143543545, 0.1828181448676798]\n"
     ]
    },
    {
     "name": "stderr",
     "output_type": "stream",
     "text": [
      "23/11/27 19:51:37 WARN BlockManager: Task 1806 already completed, not releasing lock for rdd_53_0\n"
     ]
    }
   ],
   "source": [
    "# TODO: Replace <FILL IN> with appropriate code\n",
    "from math import exp #  exp(-t) = e^-t\n",
    "\n",
    "def getP(x, w, intercept):\n",
    "    \"\"\"Calculate the probability for an observation given a set of weights and intercept.\n",
    "\n",
    "    Note:\n",
    "        We'll bound our raw prediction between 25 and -25 for numerical purposes.\n",
    "\n",
    "    Args:\n",
    "        x (SparseVector): A vector with values of 1.0 for features that exist in this\n",
    "            observation and 0.0 otherwise.\n",
    "        w (DenseVector): A vector of weights (betas) for the model.\n",
    "        intercept (float): The model's intercept.\n",
    "\n",
    "    Returns:\n",
    "        float: A probability between 0 and 1.\n",
    "    \"\"\"\n",
    "    rawPrediction = x.dot(w) + intercept\n",
    "\n",
    "    # Bound the raw prediction value\n",
    "    rawPrediction = min(rawPrediction, 25)\n",
    "    rawPrediction = max(rawPrediction, -25)\n",
    "    return (1+exp(-1*rawPrediction))**(-1)\n",
    "\n",
    "trainingPredictions = OHETrainData.map(lambda x: getP(x.features, model0.weights, model0.intercept))\n",
    "\n",
    "print (trainingPredictions.take(5))"
   ]
  },
  {
   "cell_type": "markdown",
   "metadata": {
    "id": "xGPuHu72MXGN"
   },
   "source": [
    "#### ** (4f) Evaluate the model **\n",
    "#### We are now ready to evaluate the quality of the model we trained in Part (4a). To do this, first write a general function that takes as input a model and data, and outputs the log loss.  Then run this function on the OHE training data, and compare the result with the baseline log loss."
   ]
  },
  {
   "cell_type": "code",
   "execution_count": 30,
   "metadata": {},
   "outputs": [
    {
     "name": "stdout",
     "output_type": "stream",
     "text": [
      "OHE Features Train Logloss:\n",
      "\tBaseline = 0.535\n",
      "\tLogReg = 0.547\n"
     ]
    }
   ],
   "source": [
    "# TODO: Replace <FILL IN> with appropriate code\n",
    "def evaluateResults(model, data):\n",
    "    \"\"\"Calculates the log loss for the data given the model.\n",
    "\n",
    "    Args:\n",
    "        model (LogisticRegressionModel): A trained logistic regression model.\n",
    "        data (RDD of LabeledPoint): Labels and features for each observation.\n",
    "\n",
    "    Returns:\n",
    "        float: Log loss for the data.\n",
    "    \"\"\"\n",
    "    return data.map(lambda x: computeLogLoss(getP(x.features, model.weights, model.intercept), x.label)).mean()\n",
    "\n",
    "logLossTrLR0 = evaluateResults(model0, OHETrainData)\n",
    "print ('OHE Features Train Logloss:\\n\\tBaseline = {0:.3f}\\n\\tLogReg = {1:.3f}'\n",
    "       .format(logLossTrBase, logLossTrLR0))"
   ]
  },
  {
   "cell_type": "markdown",
   "metadata": {
    "id": "nn2BpqMxMXGP"
   },
   "source": [
    "#### ** (4g) Validation log loss **\n",
    "#### Next, following the same logic as in Parts (4c) and 4(e), compute the validation log loss for both the baseline and logistic regression models. Notably, the baseline model for the validation data should still be based on the label fraction from the training dataset."
   ]
  },
  {
   "cell_type": "code",
   "execution_count": 31,
   "metadata": {},
   "outputs": [
    {
     "name": "stdout",
     "output_type": "stream",
     "text": [
      "OHE Features Validation Logloss:\n",
      "\tBaseline = 0.538\n",
      "\tLogReg = 0.550\n"
     ]
    }
   ],
   "source": [
    "# TODO: Replace <FILL IN> with appropriate code\n",
    "logLossValBase = OHEValidationData.map(lambda x: computeLogLoss(classOneFracTrain, x.label)).mean()\n",
    "\n",
    "logLossValLR0 =evaluateResults(model0,OHEValidationData)\n",
    "print ('OHE Features Validation Logloss:\\n\\tBaseline = {0:.3f}\\n\\tLogReg = {1:.3f}'\n",
    "       .format(logLossValBase, logLossValLR0))"
   ]
  },
  {
   "cell_type": "markdown",
   "metadata": {
    "id": "mqedTkl6MXGQ"
   },
   "source": [
    "#### **Visualization : ROC curve **\n",
    "#### We will now visualize how well the model predicts our target.  To do this we generate a plot of the ROC curve.  The ROC curve shows us the trade-off between the false positive rate and true positive rate, as we liberalize the threshold required to predict a positive outcome.  A random model is represented by the dashed line."
   ]
  },
  {
   "cell_type": "code",
   "execution_count": 32,
   "metadata": {
    "id": "e8YGlPXJMXGQ",
    "outputId": "6403a7f9-dff3-45f3-dcc0-328f8990644d"
   },
   "outputs": [
    {
     "data": {
      "image/png": "[encoded data removed]",
      "text/plain": [
       "<Figure size 1050x600 with 1 Axes>"
      ]
     },
     "metadata": {},
     "output_type": "display_data"
    }
   ],
   "source": [
    "import matplotlib.pyplot as plt\n",
    "\n",
    "def preparePlot(xticks, yticks, figsize=(10.5, 6), hideLabels=False, gridColor='#999999',\n",
    "                gridWidth=1.0):\n",
    "    \"\"\"Template for generating the plot layout.\"\"\"\n",
    "    plt.close()\n",
    "    fig, ax = plt.subplots(figsize=figsize, facecolor='white', edgecolor='white')\n",
    "    ax.axes.tick_params(labelcolor='#999999', labelsize='10')\n",
    "    for axis, ticks in [(ax.get_xaxis(), xticks), (ax.get_yaxis(), yticks)]:\n",
    "        axis.set_ticks_position('none')\n",
    "        axis.set_ticks(ticks)\n",
    "        axis.label.set_color('#999999')\n",
    "        if hideLabels: axis.set_ticklabels([])\n",
    "    plt.grid(color=gridColor, linewidth=gridWidth, linestyle='-')\n",
    "    map(lambda position: ax.spines[position].set_visible(False), ['bottom', 'top', 'left', 'right'])\n",
    "    return fig, ax\n",
    "\n",
    "\n",
    "labelsAndScores = OHEValidationData.map(lambda lp:\n",
    "                                            (lp.label, getP(lp.features, model0.weights, model0.intercept)))\n",
    "labelsAndWeights = labelsAndScores.collect()\n",
    "labelsAndWeights.sort(key=lambda t: t[1], reverse=True)\n",
    "labelsByWeight = np.array([k for (k, v) in labelsAndWeights])\n",
    "\n",
    "length = labelsByWeight.size\n",
    "truePositives = labelsByWeight.cumsum()\n",
    "numPositive = truePositives[-1]\n",
    "falsePositives = np.arange(1.0, length + 1, 1.) - truePositives\n",
    "\n",
    "truePositiveRate = truePositives / numPositive\n",
    "falsePositiveRate = falsePositives / (length - numPositive)\n",
    "\n",
    "# Generate layout and plot data\n",
    "fig, ax = preparePlot(np.arange(0., 1.1, 0.1), np.arange(0., 1.1, 0.1))\n",
    "ax.set_xlim(-.05, 1.05), ax.set_ylim(-.05, 1.05)\n",
    "ax.set_ylabel('True Positive Rate (Sensitivity)')\n",
    "ax.set_xlabel('False Positive Rate (1 - Specificity)')\n",
    "plt.plot(falsePositiveRate, truePositiveRate, color='#8A2BE2', linestyle='-', linewidth=3.)\n",
    "plt.plot((0., 1.), (0., 1.), linestyle='--', color='#3D59AB', linewidth=2.)  # Baseline model\n",
    "plt.title(\"ROC Curve\")\n",
    "plt.show()"
   ]
  },
  {
   "cell_type": "markdown",
   "metadata": {
    "id": "7IfEa8edMXGR"
   },
   "source": [
    "### **Part 5: Reduce feature dimension via feature hashing**"
   ]
  },
  {
   "cell_type": "markdown",
   "metadata": {
    "id": "fcD1aXvsMXGS"
   },
   "source": [
    "#### ** (5a) Hash function **\n",
    "#### As we just saw, using a one-hot-encoding featurization can yield a model with good statistical accuracy.  However, the number of distinct categories across all features is quite large -- recall that we observed 234K categories in the training data in Part (3c).  Moreover, the full Kaggle training dataset includes more than 33M distinct categories, and the Kaggle dataset itself is just a small subset of Criteo's labeled data.  Hence, featurizing via a one-hot-encoding representation would lead to a very large feature vector. To reduce the dimensionality of the feature space, we will use feature hashing.\n",
    "#### Below is the hash function that we will use for this part of the lab.  We will first use this hash function with the three sample data points from Part (1a) to gain some intuition.  Specifically, run code to hash the three sample points using two different values for `numBuckets` and observe the resulting hashed feature dictionaries."
   ]
  },
  {
   "cell_type": "code",
   "execution_count": 33,
   "metadata": {
    "id": "YtHbohIDMXGS"
   },
   "outputs": [],
   "source": [
    "from collections import defaultdict\n",
    "import hashlib\n",
    "\n",
    "def hashFunction(numBuckets, rawFeats, printMapping=False):\n",
    "    \"\"\"Calculate a feature dictionary for an observation's features based on hashing.\n",
    "\n",
    "    Note:\n",
    "        Use printMapping=True for debug purposes and to better understand how the hashing works.\n",
    "\n",
    "    Args:\n",
    "        numBuckets (int): Number of buckets to use as features.\n",
    "        rawFeats (list of (int, str)): A list of features for an observation.  Represented as\n",
    "            (featureID, value) tuples.\n",
    "        printMapping (bool, optional): If true, the mappings of featureString to index will be\n",
    "            printed.\n",
    "\n",
    "    Returns:\n",
    "        dict of int to float:  The keys will be integers which represent the buckets that the\n",
    "            features have been hashed to.  The value for a given key will contain the count of the\n",
    "            (featureID, value) tuples that have hashed to that key.\n",
    "    \"\"\"\n",
    "    mapping = {}\n",
    "    for ind, category in rawFeats:\n",
    "        featureString = category + str(ind)\n",
    "        mapping[featureString] = int(int(hashlib.md5(featureString.encode('utf-8')).hexdigest(), 16) % numBuckets)\n",
    "    if(printMapping): print (mapping)\n",
    "    sparseFeatures = defaultdict(float)\n",
    "    for bucket in mapping.values():\n",
    "        sparseFeatures[bucket] += 1.0\n",
    "    return dict(sparseFeatures)\n",
    "\n",
    "# Reminder of the sample features\n",
    "# sampleOne = [(0, 'mouse'), (1, 'black')]\n",
    "# sampleTwo = [(0, 'cat'), (1, 'tabby'), (2, 'mouse')]\n",
    "# sampleThree =  [(0, 'bear'), (1, 'black'), (2, 'salmon')]"
   ]
  },
  {
   "cell_type": "code",
   "execution_count": 34,
   "metadata": {},
   "outputs": [
    {
     "name": "stdout",
     "output_type": "stream",
     "text": [
      "{'mouse0': 1, 'black1': 4}\n",
      "{'cat0': 0, 'tabby1': 1, 'mouse2': 2}\n",
      "{'bear0': 2, 'black1': 4, 'salmon2': 0}\n",
      "{'mouse0': 31, 'black1': 14}\n",
      "{'cat0': 40, 'tabby1': 16, 'mouse2': 62}\n",
      "{'bear0': 72, 'black1': 14, 'salmon2': 5}\n",
      "\t\t 5 Buckets \t\t\t 100 Buckets\n",
      "SampleOne:\t {1: 1.0, 4: 1.0}\t\t {31: 1.0, 14: 1.0}\n",
      "SampleTwo:\t {0: 1.0, 1: 1.0, 2: 1.0}\t\t {40: 1.0, 16: 1.0, 62: 1.0}\n",
      "SampleThree:\t {2: 1.0, 4: 1.0, 0: 1.0}\t {72: 1.0, 14: 1.0, 5: 1.0}\n"
     ]
    }
   ],
   "source": [
    "# TODO: Replace <FILL IN> with appropriate code\n",
    "# Use five buckets\n",
    "sampOneFiveBuckets = hashFunction(5, sampleOne, True)\n",
    "sampTwoFiveBuckets = hashFunction(5, sampleTwo, True)\n",
    "sampThreeFiveBuckets = hashFunction(5, sampleThree, True)\n",
    "\n",
    "# Use one hundred buckets\n",
    "sampOneHundredBuckets = hashFunction(100, sampleOne, True)\n",
    "sampTwoHundredBuckets = hashFunction(100, sampleTwo, True)\n",
    "sampThreeHundredBuckets = hashFunction(100, sampleThree, True)\n",
    "\n",
    "print ('\\t\\t 5 Buckets \\t\\t\\t 100 Buckets')\n",
    "print ('SampleOne:\\t {0}\\t\\t {1}'.format(sampOneFiveBuckets, sampOneHundredBuckets))\n",
    "print ('SampleTwo:\\t {0}\\t\\t {1}'.format(sampTwoFiveBuckets, sampTwoHundredBuckets))\n",
    "print ('SampleThree:\\t {0}\\t {1}'.format(sampThreeFiveBuckets, sampThreeHundredBuckets))"
   ]
  },
  {
   "cell_type": "markdown",
   "metadata": {},
   "source": [
    "#### ** (5b) Hashing numeric features **\n",
    "\n",
    "#### Similar to categorical features, we can also hash the numeric features.\n",
    "#### One key difference is that we do not have to hash each category's values. Instead we do the following: For each feature index (ind) obtained from the numeric features, it converts the index to a string and calculates the hash of this featureString using the MD5 hashing algorithm. Then, it initializes an empty defaultdict called sparseFeatures to store the counts of features hashed into each bucket. The hash function then iterates through the mapping dictionary. For each (ind, bucket) pair, it extracts the numeric value from the raw data, it then sets the number of the corresponding bucket in sparseFeatures by the numeric value. "
   ]
  },
  {
   "cell_type": "code",
   "execution_count": 35,
   "metadata": {},
   "outputs": [
    {
     "name": "stdout",
     "output_type": "stream",
     "text": [
      "{'0': 0, '1': 1}\n",
      "{'0': 0, '1': 1, '2': 2}\n",
      "{'0': 0, '1': 1, '2': 2}\n",
      "{'0': 50, '1': 11}\n",
      "{'0': 50, '1': 11, '2': 12}\n",
      "{'0': 50, '1': 11, '2': 12}\n",
      "\t\t 4 Buckets \t\t\t 100 Buckets\n",
      "SampleOne:\t defaultdict(<class 'float'>, {0: 8.0, 1: 10.0})\t\t defaultdict(<class 'float'>, {50: 8.0, 11: 10.0})\n",
      "SampleTwo:\t defaultdict(<class 'float'>, {0: 7.0, 1: 12.0, 2: 4.0})\t\t defaultdict(<class 'float'>, {50: 7.0, 11: 12.0, 12: 4.0})\n",
      "SampleThree:\t defaultdict(<class 'float'>, {0: 7.0, 1: 9.0, 2: 5.0})\t defaultdict(<class 'float'>, {50: 7.0, 11: 9.0, 12: 5.0})\n"
     ]
    }
   ],
   "source": [
    "#TODO: Replace <FILL IN> with appropriate code\n",
    "from collections import defaultdict\n",
    "import hashlib\n",
    "\n",
    "def hashNumericFunction(numBuckets, rawFeats, printMapping=False):\n",
    "    \"\"\"Calculate a feature dictionary for an observation's numeric features based on hashing.\n",
    "    Note:\n",
    "        Use printMapping=True for debug purposes and to better understand how the hashing works.\n",
    "\n",
    "    Args:\n",
    "        numBuckets (int): Number of buckets to use as features.\n",
    "        rawFeats: A list of features for an observation.\n",
    "        printMapping (bool, optional): If true, the mappings of featureString to index will be\n",
    "            printed.\n",
    "\n",
    "    Returns:\n",
    "        dict of int to float:  The keys will be integers which represent the buckets that the\n",
    "            features have been hashed to.  The value for a given key will contain the count of the\n",
    "            (featureID, value) tuples that have hashed to that key.\n",
    "    \"\"\"\n",
    "    \n",
    "    \n",
    "    #create the mapping\n",
    "    mapping = {}\n",
    "    for ind,_ in enumerate(rawFeats):\n",
    "        featureString = str(ind)\n",
    "        hashedValue = int(int(hashlib.md5(featureString.encode('utf-8')).hexdigest(), 16) % numBuckets)\n",
    "        mapping[featureString] = hashedValue\n",
    "    if printMapping:\n",
    "        print(mapping)\n",
    "    \n",
    "    sparseFeatures = defaultdict(float)\n",
    "    #use actual numeric values to the mapping\n",
    "    for ind, bucket in mapping.items():\n",
    "        numericValue = rawFeats[int(ind)]\n",
    "        sparseFeatures[bucket] += numericValue\n",
    "    return sparseFeatures\n",
    "\n",
    "\n",
    "#Sample features (numeric)\n",
    "sampleNumericOne = [8,10]\n",
    "sampleNumericTwo = [7,12,4]\n",
    "sampleNumericThree = [7,9,5]\n",
    "\n",
    "sampOneFiveBuckets = hashNumericFunction(5, sampleNumericOne, True)\n",
    "sampTwoFiveBuckets = hashNumericFunction(5, sampleNumericTwo, True)\n",
    "sampThreeFiveBuckets = hashNumericFunction(5, sampleNumericThree, True)\n",
    "\n",
    "# Use one hundred buckets\n",
    "sampOneHundredBuckets = hashNumericFunction(100, sampleNumericOne, True)\n",
    "sampTwoHundredBuckets = hashNumericFunction(100, sampleNumericTwo, True)\n",
    "sampThreeHundredBuckets = hashNumericFunction(100, sampleNumericThree, True)\n",
    "\n",
    "print ('\\t\\t 4 Buckets \\t\\t\\t 100 Buckets')\n",
    "print ('SampleOne:\\t {0}\\t\\t {1}'.format(sampOneFiveBuckets, sampOneHundredBuckets))\n",
    "print ('SampleTwo:\\t {0}\\t\\t {1}'.format(sampTwoFiveBuckets, sampTwoHundredBuckets))\n",
    "print ('SampleThree:\\t {0}\\t {1}'.format(sampThreeFiveBuckets, sampThreeHundredBuckets))"
   ]
  },
  {
   "cell_type": "markdown",
   "metadata": {
    "id": "xoitkj9sMXGd"
   },
   "source": [
    "#### ** (5c) Creating hashed features **\n",
    "#### Next we will use this hash function to create hashed features for our CTR datasets. First write a function that uses the hash function from Part (5a)  and Part (5b) with numBuckets = $ \\scriptsize 2^{15} \\approx 33K $ and numeric bucket = 1000 to create a `LabeledPoint` with hashed features stored as a `SparseVector`.  Then use this function to create new training, validation and test datasets with hashed features. Hint: `parsedHashPointNormalized` is similar to `parseOHEPointNormalized` ."
   ]
  },
  {
   "cell_type": "code",
   "execution_count": 36,
   "metadata": {},
   "outputs": [
    {
     "name": "stderr",
     "output_type": "stream",
     "text": [
      "[Stage 153:>                                                        (0 + 1) / 1]\r"
     ]
    },
    {
     "name": "stdout",
     "output_type": "stream",
     "text": [
      "[LabeledPoint(0.0, (33768,[0,1,2,3,4,5,6,7,8,9,10,11,12,13,14,15,16,17,18,19,20,21,22,23,24,25,26,27,28,29,30,31,32,33,34,35,36,37,38],[1.0,1.0,1.0,1.0,1.0,1.0,1.0,1.0,1.0,1.0,1.0,1.0,1.0,1.0,1.0,1.0,1.0,1.0,1.0,1.0,1.0,1.0,1.0,1.0,1.0,1.0,0.001798561151075902,0.00016195206218958314,7.629510948348094e-05,0.0,0.0007937383121746357,0.0002554604674926392,0.00170319064380587,0.0004276245456488288,0.014295869204643053,0.16666666663888888,0.019801980197823744,0.0,0.000304971027752317]))]\n"
     ]
    },
    {
     "name": "stderr",
     "output_type": "stream",
     "text": [
      "                                                                                \r"
     ]
    }
   ],
   "source": [
    "# TODO: Replace <FILL IN> with appropriate code\n",
    "def parseHashPointNormalized(point, numBuckets, numNumericBuckets=1000):\n",
    "    \"\"\"Create a LabeledPoint for this observation using hashing.\n",
    "\n",
    "    Args:\n",
    "        point (str): A comma separated string where the first value is the label and the rest are\n",
    "            features.\n",
    "        numBuckets: The number of buckets to hash to.\n",
    "\n",
    "    Returns:\n",
    "        LabeledPoint: A LabeledPoint with a label (0.0 or 1.0) and a SparseVector of hashed\n",
    "            features.\n",
    "    \"\"\"\n",
    "    label = point.split(',')[0]\n",
    "    oheFeat = hashFunction(numBuckets, parseCategorical(point), printMapping=False)\n",
    "    oheNumeric= hashNumericFunction(numNumericBuckets, minMaxNormalize(parseNumeric(point),featureMin, featureMax), printMapping=False)\n",
    "    \n",
    "    #this is just to combine categorical sparse vector and numerical sparse vector\n",
    "#     combinedSize = oheFeat.size + oheNumeric.size\n",
    "#     combinedIndices = list(oheFeat.indices) + [idx + oheFeat.size for idx in oheNumeric.indices]\n",
    "#     combinedValues = list(oheFeat.values) + list(oheNumeric.values)\n",
    "#     print(oheFeat,oheNumeric)\n",
    "    combinedSize = numBuckets + numNumericBuckets\n",
    "    combinedIndices = list(range(len(oheFeat))) + [idx + len(oheFeat) for idx in range(len(oheNumeric))]\n",
    "    combinedValues = list(oheFeat.values()) + list(oheNumeric.values())\n",
    "    combinedVector = SparseVector(combinedSize, combinedIndices, combinedValues)\n",
    "    \n",
    "    return LabeledPoint(label, combinedVector)\n",
    "\n",
    "numBucketsCTR = 2 ** 15\n",
    "numNumericBuckets = 1000\n",
    "hashTrainData = rawTrainData.map(lambda point: parseHashPointNormalized(point, numBucketsCTR,numNumericBuckets))\n",
    "hashTrainData.cache()\n",
    "hashValidationData = rawValidationData.map(lambda point: parseHashPointNormalized(point, numBucketsCTR,numNumericBuckets))\n",
    "hashValidationData.cache()\n",
    "hashTestData = rawTestData.map(lambda point: parseHashPointNormalized(point, numBucketsCTR,numNumericBuckets))\n",
    "hashTestData.cache()\n",
    "\n",
    "print (hashTrainData.take(1))"
   ]
  },
  {
   "cell_type": "markdown",
   "metadata": {
    "id": "D1x4mZcdMXGf"
   },
   "source": [
    "#### ** (5d) Sparsity **\n",
    "#### Since we have 34K hashed features versus 234K OHE features, we should expect OHE features to be sparser. Verify this hypothesis by computing the average sparsity of the OHE and the hashed training datasets.\n",
    "#### Note that if you have a `SparseVector` named `sparse`, calling `len(sparse)` returns the total number of features, not the number features with entries.  `SparseVector` objects have the attributes `indices` and `values` that contain information about which features are nonzero.  Continuing with our example, these can be accessed using `sparse.indices` and `sparse.values`, respectively."
   ]
  },
  {
   "cell_type": "code",
   "execution_count": 37,
   "metadata": {},
   "outputs": [
    {
     "name": "stderr",
     "output_type": "stream",
     "text": [
      "[Stage 154:=====>                                                  (1 + 9) / 10]\r"
     ]
    },
    {
     "name": "stdout",
     "output_type": "stream",
     "text": [
      "Average OHE Sparsity: 1.8607006e-04\n",
      "Average Hash Sparsity: 1.1637087e-03\n"
     ]
    },
    {
     "name": "stderr",
     "output_type": "stream",
     "text": [
      "                                                                                \r"
     ]
    }
   ],
   "source": [
    "# TODO: Replace <FILL IN> with appropriate code\n",
    "def computeSparsity(data, d, n):\n",
    "    \"\"\"Calculates the average sparsity for the features in an RDD of LabeledPoints.\n",
    "\n",
    "    Args:\n",
    "        data (RDD of LabeledPoint): The LabeledPoints to use in the sparsity calculation.\n",
    "        d (int): The total number of features.\n",
    "        n (int): The number of observations in the RDD.\n",
    "\n",
    "    Returns:\n",
    "        float: The average of the ratio of features in a point to total features.\n",
    "    \"\"\"\n",
    "    return (data.map(lambda x: len(x.features.values)/float(d)).sum())/n\n",
    "\n",
    "averageSparsityHash = computeSparsity(hashTrainData, numBucketsCTR, nTrain)\n",
    "averageSparsityOHE = computeSparsity(OHETrainData, numCtrOHEFeats, nTrain)\n",
    "\n",
    "print ('Average OHE Sparsity: {0:.7e}'.format(averageSparsityOHE))\n",
    "print ('Average Hash Sparsity: {0:.7e}'.format(averageSparsityHash))"
   ]
  },
  {
   "cell_type": "markdown",
   "metadata": {
    "id": "Kjc3_uYUMXGg"
   },
   "source": [
    "#### ** (5e) Logistic model with hashed features **\n",
    "#### Now let's train a logistic regression model using the hashed features. Run a grid search to find suitable hyperparameters for the hashed features, evaluating via log loss on the validation data. Note: This may take a few minutes to run. Use `1`, `10` and `20` for `stepSizes` and `1e-6` and `1e-3` for `regParams`."
   ]
  },
  {
   "cell_type": "code",
   "execution_count": 38,
   "metadata": {
    "id": "p0Nfp9DHMXGh"
   },
   "outputs": [],
   "source": [
    "numIters = 500\n",
    "regType = 'l2'\n",
    "includeIntercept = True\n",
    "\n",
    "# Initialize variables using values from initial model training\n",
    "bestModel = None\n",
    "bestLogLoss = 1e10"
   ]
  },
  {
   "cell_type": "code",
   "execution_count": 39,
   "metadata": {},
   "outputs": [
    {
     "name": "stdout",
     "output_type": "stream",
     "text": [
      "\tstepSize = 1.0, regParam = 1e-06: logloss = 0.538\n",
      "\tstepSize = 1.0, regParam = 1e-03: logloss = 0.538\n",
      "\tstepSize = 10.0, regParam = 1e-06: logloss = 0.531\n",
      "\tstepSize = 10.0, regParam = 1e-03: logloss = 0.534\n",
      "\tstepSize = 20.0, regParam = 1e-06: logloss = 1.081\n",
      "\tstepSize = 20.0, regParam = 1e-03: logloss = 0.524\n",
      "Hashed Features Validation Logloss:\n",
      "\tBaseline = 0.538\n",
      "\tLogReg = 0.524\n"
     ]
    }
   ],
   "source": [
    "# TODO: Replace <FILL IN> with appropriate code\n",
    "stepSizes = [1,10,20]\n",
    "regParams = [1e-6,1e-3]\n",
    "for stepSize in stepSizes:\n",
    "    for regParam in regParams:\n",
    "        model = (LogisticRegressionWithSGD.train(hashTrainData, iterations = numIters,step = stepSize, regParam=regParam, regType=regType,\n",
    "                        intercept=includeIntercept))\n",
    "        logLossVa = evaluateResults(model, hashValidationData)\n",
    "        print ('\\tstepSize = {0:.1f}, regParam = {1:.0e}: logloss = {2:.3f}'.format(stepSize, regParam, logLossVa))\n",
    "        if (logLossVa < bestLogLoss):\n",
    "            bestModel = model\n",
    "            bestLogLoss = logLossVa\n",
    "\n",
    "print ('Hashed Features Validation Logloss:\\n\\tBaseline = {0:.3f}\\n\\tLogReg = {1:.3f}'\n",
    "       .format(logLossValBase, bestLogLoss))"
   ]
  },
  {
   "cell_type": "markdown",
   "metadata": {
    "id": "7hi9boofMXGi"
   },
   "source": [
    "#### **Visualization 3: Hyperparameter heat map**\n",
    "#### We will now perform a visualization of an extensive hyperparameter search.  Specifically, we will create a heat map where the brighter colors correspond to lower values of `logLoss`.\n",
    "#### The search was run using six step sizes and six values for regularization, which required the training of thirty-six separate models.  We have included the results below, but omitted the actual search to save time."
   ]
  },
  {
   "cell_type": "code",
   "execution_count": 40,
   "metadata": {
    "id": "DnoOZO-SMXGu",
    "outputId": "2391373f-83d8-4577-e502-628983b63849"
   },
   "outputs": [
    {
     "data": {
      "image/png": "[encoded data removed]",
      "text/plain": [
       "<Figure size 800x700 with 1 Axes>"
      ]
     },
     "metadata": {},
     "output_type": "display_data"
    }
   ],
   "source": [
    "from matplotlib.colors import LinearSegmentedColormap\n",
    "\n",
    "# Saved parameters and results.  Eliminate the time required to run 36 models\n",
    "stepSizes = [3, 6, 9, 12, 15, 18]\n",
    "regParams = [1e-7, 1e-6, 1e-5, 1e-4, 1e-3, 1e-2]\n",
    "logLoss = np.array([[ 0.45808431,  0.45808493,  0.45809113,  0.45815333,  0.45879221,  0.46556321],\n",
    "                    [ 0.45188196,  0.45188306,  0.4518941,   0.4520051,   0.45316284,  0.46396068],\n",
    "                    [ 0.44886478,  0.44886613,  0.44887974,  0.44902096,  0.4505614,   0.46371153],\n",
    "                    [ 0.44706645,  0.4470698,   0.44708102,  0.44724251,  0.44905525,  0.46366507],\n",
    "                    [ 0.44588848,  0.44589365,  0.44590568,  0.44606631,  0.44807106,  0.46365589],\n",
    "                    [ 0.44508948,  0.44509474,  0.44510274,  0.44525007,  0.44738317,  0.46365405]])\n",
    "\n",
    "numRows, numCols = len(stepSizes), len(regParams)\n",
    "logLoss = np.array(logLoss)\n",
    "logLoss.shape = (numRows, numCols)\n",
    "\n",
    "fig, ax = preparePlot(np.arange(0, numCols, 1), np.arange(0, numRows, 1), figsize=(8, 7),\n",
    "                      hideLabels=True, gridWidth=0.)\n",
    "ax.set_xticklabels(regParams), ax.set_yticklabels(stepSizes)\n",
    "ax.set_xlabel('Regularization Parameter'), ax.set_ylabel('Step Size')\n",
    "\n",
    "colors = LinearSegmentedColormap.from_list('blue', ['#0022ff', '#000055'], gamma=.2)\n",
    "image = plt.imshow(logLoss,interpolation='nearest', aspect='auto',\n",
    "                    cmap = colors)\n",
    "plt.show()"
   ]
  },
  {
   "cell_type": "markdown",
   "metadata": {
    "id": "zVMDOaArMXGv"
   },
   "source": [
    "#### ** (5f) Evaluate on the test set **\n",
    "#### Finally, evaluate the best model from Part (5d) on the test set.  Compare the resulting log loss with the baseline log loss on the test set, which can be computed in the same way that the validation log loss was computed in Part (4f)."
   ]
  },
  {
   "cell_type": "code",
   "execution_count": 41,
   "metadata": {},
   "outputs": [
    {
     "name": "stdout",
     "output_type": "stream",
     "text": [
      "Hashed Features Test Log Loss:\n",
      "\tBaseline = 0.533\n",
      "\tLogReg = 0.517\n"
     ]
    }
   ],
   "source": [
    "# TODO: Replace <FILL IN> with appropriate code\n",
    "# Log loss for the best model from (5d)\n",
    "logLossTest = evaluateResults(bestModel,hashTestData)\n",
    "\n",
    "# Log loss for the baseline model\n",
    "logLossTestBaseline = hashTestData.map(lambda x: computeLogLoss(classOneFracTrain, x.label)).mean()\n",
    "\n",
    "print ('Hashed Features Test Log Loss:\\n\\tBaseline = {0:.3f}\\n\\tLogReg = {1:.3f}'\n",
    "       .format(logLossTestBaseline, logLossTest))"
   ]
  },
  {
   "cell_type": "markdown",
   "metadata": {},
   "source": [
    "## END"
   ]
  },
  {
   "cell_type": "code",
   "execution_count": null,
   "metadata": {},
   "outputs": [],
   "source": []
  },
  {
   "cell_type": "code",
   "execution_count": null,
   "metadata": {},
   "outputs": [],
   "source": []
  },
  {
   "cell_type": "code",
   "execution_count": null,
   "metadata": {},
   "outputs": [],
   "source": []
  }
 ],
 "metadata": {
  "colab": {
   "provenance": []
  },
  "kernelspec": {
   "display_name": "Python 3 (ipykernel)",
   "language": "python",
   "name": "python3"
  },
  "language_info": {
   "codemirror_mode": {
    "name": "ipython",
    "version": 3
   },
   "file_extension": ".py",
   "mimetype": "text/x-python",
   "name": "python",
   "nbconvert_exporter": "python",
   "pygments_lexer": "ipython3",
   "version": "3.9.13"
  },
  "name": "hw3_ctr_solution",
  "notebookId": 3984803278387501
 },
 "nbformat": 4,
 "nbformat_minor": 1
}
